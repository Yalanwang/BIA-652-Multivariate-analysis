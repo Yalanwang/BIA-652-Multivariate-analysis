{
 "cells": [
  {
   "cell_type": "code",
   "execution_count": 59,
   "metadata": {
    "collapsed": false
   },
   "outputs": [],
   "source": [
    "import pandas as pd\n",
    "from sklearn.cross_validation import train_test_split\n",
    "\n",
    "data = pd.read_csv(\"http://www.ats.ucla.edu/stat/data/binary.csv\")\n",
    "#data.head()\n",
    "train, test = train_test_split(data, test_size = 0.4)\n",
    "y_train = train[\"admit\"].values\n",
    "x_train = train[[\"gre\",\"gpa\",\"rank\"]]\n",
    "y_test = test[\"admit\"].values\n",
    "x_test = test[[\"gre\",\"gpa\",\"rank\"]]\n"
   ]
  },
  {
   "cell_type": "code",
   "execution_count": 60,
   "metadata": {
    "collapsed": false
   },
   "outputs": [
    {
     "data": {
      "text/plain": [
       "LogisticRegression(C=1.0, class_weight=None, dual=False, fit_intercept=True,\n",
       "          intercept_scaling=1, max_iter=100, multi_class='ovr', n_jobs=1,\n",
       "          penalty='l2', random_state=None, solver='liblinear', tol=0.0001,\n",
       "          verbose=0, warm_start=False)"
      ]
     },
     "execution_count": 60,
     "metadata": {},
     "output_type": "execute_result"
    }
   ],
   "source": [
    "from sklearn.linear_model import LogisticRegression\n",
    "\n",
    "model = LogisticRegression()\n",
    "model.fit(x_train,y_train)\n"
   ]
  },
  {
   "cell_type": "code",
   "execution_count": 61,
   "metadata": {
    "collapsed": false
   },
   "outputs": [],
   "source": [
    "predicted = model.predict(x_test)\n",
    "probs = model.predict_proba(x_test)\n",
    "#probs"
   ]
  },
  {
   "cell_type": "code",
   "execution_count": 62,
   "metadata": {
    "collapsed": false
   },
   "outputs": [
    {
     "name": "stdout",
     "output_type": "stream",
     "text": [
      "auc =  0.703031851473\n"
     ]
    },
    {
     "data": {
      "image/png": "[encoded data removed]",
      "text/plain": [
       "<matplotlib.figure.Figure at 0xb9b3780>"
      ]
     },
     "metadata": {},
     "output_type": "display_data"
    }
   ],
   "source": [
    "from sklearn import metrics\n",
    "import matplotlib.pyplot as plt\n",
    "%matplotlib inline\n",
    "\n",
    "fpr, tpr, thresholds = metrics.roc_curve(y_test, probs[:, 1], pos_label=1)\n",
    "plt.plot(fpr,tpr, color=\"red\")\n",
    "print(\"auc = \", metrics.auc(fpr, tpr))"
   ]
  },
  {
   "cell_type": "code",
   "execution_count": 63,
   "metadata": {
    "collapsed": false,
    "scrolled": true
   },
   "outputs": [
    {
     "data": {
      "text/plain": [
       "[<matplotlib.lines.Line2D at 0xa806668>]"
      ]
     },
     "execution_count": 63,
     "metadata": {},
     "output_type": "execute_result"
    },
    {
     "data": {
      "image/png": "[encoded data removed]",
      "text/plain": [
       "<matplotlib.figure.Figure at 0xa8ed4e0>"
      ]
     },
     "metadata": {},
     "output_type": "display_data"
    }
   ],
   "source": [
    "precision, recall, thresholds = metrics.precision_recall_curve(y_test, probs[:, 1])\n",
    "plt.plot(recall, precision, color=\"green\")"
   ]
  },
  {
   "cell_type": "code",
   "execution_count": 64,
   "metadata": {
    "collapsed": true
   },
   "outputs": [],
   "source": [
    "# binning GRE into up to 17 bins: [0,50],[51,100],...[751,800]\n",
    "# AUC improved from 0.693 to 0.730"
   ]
  },
  {
   "cell_type": "code",
   "execution_count": 65,
   "metadata": {
    "collapsed": false
   },
   "outputs": [],
   "source": [
    "#binning\n",
    "import numpy as np\n",
    "\n",
    "def binning(x):\n",
    "    xx = np.full([17],0.)\n",
    "    xx[int(x/50)] = 1\n",
    "    return xx"
   ]
  },
  {
   "cell_type": "code",
   "execution_count": 66,
   "metadata": {
    "collapsed": false
   },
   "outputs": [
    {
     "name": "stdout",
     "output_type": "stream",
     "text": [
      "auc =  0.727683078077\n"
     ]
    },
    {
     "data": {
      "image/png": "[encoded data removed]",
      "text/plain": [
       "<matplotlib.figure.Figure at 0xb9cf978>"
      ]
     },
     "metadata": {},
     "output_type": "display_data"
    }
   ],
   "source": [
    "y_binned_train = data[\"admit\"].values\n",
    "\n",
    "def binning(x):\n",
    "    xx = np.full([17],0.)\n",
    "    xx[int(x/50)] = 1\n",
    "    return xx\n",
    "\n",
    "rank_binned = pd.DataFrame([binning(x) for x in data[\"gre\"].values])\n",
    "rank_binned.columns=range(17)\n",
    "x_binned_train = pd.concat((data[[\"gpa\",\"rank\"]], rank_binned), axis=1)\n",
    "# x_binned_train\n",
    "y_binned_test = data[\"admit\"].values\n",
    "x_binned_test = pd.concat((data[[\"gpa\",\"rank\"]], rank_binned), axis=1)\n",
    "# x_binned_test\n",
    "mymodel = LogisticRegression()\n",
    "mymodel.fit(x_binned_train,y_binned_train)\n",
    "\n",
    "predicted = mymodel.predict(x_binned_test)\n",
    "probs = mymodel.predict_proba(x_binned_test)\n",
    "\n",
    "fpr_binned, tpr_binned, thresholds = metrics.roc_curve(y_binned_test, probs[:, 1], pos_label=1)\n",
    "plt.plot(fpr,tpr, color=\"blue\")\n",
    "print(\"auc = \", metrics.auc(fpr_binned, tpr_binned))"
   ]
  },
  {
   "cell_type": "code",
   "execution_count": 67,
   "metadata": {
    "collapsed": false
   },
   "outputs": [
    {
     "data": {
      "text/plain": [
       "[<matplotlib.lines.Line2D at 0xa8964e0>]"
      ]
     },
     "execution_count": 67,
     "metadata": {},
     "output_type": "execute_result"
    },
    {
     "data": {
      "image/png": "[encoded data removed]",
      "text/plain": [
       "<matplotlib.figure.Figure at 0xa896f60>"
      ]
     },
     "metadata": {},
     "output_type": "display_data"
    }
   ],
   "source": [
    "plt.plot(fpr,tpr, color=\"red\")\n",
    "plt.plot(fpr_binned,tpr_binned, color=\"blue\")"
   ]
  },
  {
   "cell_type": "code",
   "execution_count": null,
   "metadata": {
    "collapsed": true
   },
   "outputs": [],
   "source": []
  }
 ],
 "metadata": {
  "kernelspec": {
   "display_name": "Python 3",
   "language": "python",
   "name": "python3"
  },
  "language_info": {
   "codemirror_mode": {
    "name": "ipython",
    "version": 3
   },
   "file_extension": ".py",
   "mimetype": "text/x-python",
   "name": "python",
   "nbconvert_exporter": "python",
   "pygments_lexer": "ipython3",
   "version": "3.6.0"
  }
 },
 "nbformat": 4,
 "nbformat_minor": 2
}
