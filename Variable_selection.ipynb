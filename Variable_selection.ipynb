{
 "cells": [
  {
   "cell_type": "code",
   "execution_count": 1,
   "metadata": {
    "collapsed": false
   },
   "outputs": [],
   "source": [
    "from sklearn import datasets\n",
    "import pandas as pd\n",
    "\n",
    "boston = datasets.load_boston()\n",
    "boston_data = pd.DataFrame(boston.data)\n",
    "boston_data.columns = boston['feature_names']\n",
    "boston_data['price'] = boston['target']\n",
    "# boston_data.head()"
   ]
  },
  {
   "cell_type": "code",
   "execution_count": 2,
   "metadata": {
    "collapsed": false
   },
   "outputs": [],
   "source": [
    "import numpy as np\n",
    "\n",
    "cor=pd.DataFrame(np.corrcoef(np.transpose(boston_data)))\n",
    "cor.columns=np.concatenate([boston['feature_names'],['price']])\n",
    "cor.index=np.concatenate([boston['feature_names'],['price']])\n",
    "# cor"
   ]
  },
  {
   "cell_type": "code",
   "execution_count": 4,
   "metadata": {
    "collapsed": false
   },
   "outputs": [
    {
     "data": {
      "image/png": "[encoded data removed]",
      "text/plain": [
       "<matplotlib.figure.Figure at 0x4942908>"
      ]
     },
     "metadata": {},
     "output_type": "display_data"
    }
   ],
   "source": [
    "import seaborn as sns\n",
    "import matplotlib.pyplot as plt\n",
    "\n",
    "sns.heatmap(cor)\n",
    "plt.show()"
   ]
  },
  {
   "cell_type": "code",
   "execution_count": 21,
   "metadata": {
    "collapsed": false
   },
   "outputs": [
    {
     "name": "stdout",
     "output_type": "stream",
     "text": [
      "if removing column  CRIM  ssres_removed =  11322.0042771  ssres_orig= 11080.2762841  F= 30.6070841336\n",
      "if removing column  ZN  ssres_removed =  11337.5024409  ssres_orig= 11080.2762841  F= 32.569428655\n",
      "if removing column  INDUS  ssres_removed =  11082.8675978  ssres_orig= 11080.2762841  F= 0.328106626577\n",
      "if removing column  CHAS  ssres_removed =  11299.5554106  ssres_orig= 11080.2762841  F= 27.7646564193\n",
      "if removing column  NOX  ssres_removed =  11568.8822347  ssres_orig= 11080.2762841  F= 61.8662458229\n",
      "if removing column  RM  ssres_removed =  12946.1792194  ssres_orig= 11080.2762841  F= 236.256659471\n",
      "if removing column  AGE  ssres_removed =  11080.3490759  ssres_orig= 11080.2762841  F= 0.00921673651955\n",
      "if removing column  DIS  ssres_removed =  12312.8207008  ssres_orig= 11080.2762841  F= 156.062151481\n",
      "if removing column  RAD  ssres_removed =  11558.4487411  ssres_orig= 11080.2762841  F= 60.5451790673\n",
      "if removing column  TAX  ssres_removed =  11322.3298335  ssres_orig= 11080.2762841  F= 30.6483053923\n",
      "if removing column  PTRATIO  ssres_removed =  12276.2156981  ssres_orig= 11080.2762841  F= 151.427303924\n",
      "if removing column  B  ssres_removed =  11356.1795006  ssres_orig= 11080.2762841  F= 34.9342782094\n",
      "if removing column  LSTAT  ssres_removed =  13500.3949529  ssres_orig= 11080.2762841  F= 306.430276419\n",
      "removing column AGE\n",
      "if removing column  CRIM  ssres_removed =  11322.0429147  ssres_orig= 11080.3490759  F= 27.1629499083\n",
      "if removing column  ZN  ssres_removed =  11340.3235638  ssres_orig= 11080.3490759  F= 29.2174348682\n",
      "if removing column  INDUS  ssres_removed =  11082.9413888  ssres_orig= 11080.3490759  F= 0.291339099588\n",
      "if removing column  CHAS  ssres_removed =  11300.6039473  ssres_orig= 11080.3490759  F= 24.7535148966\n",
      "if removing column  NOX  ssres_removed =  11602.5193903  ssres_orig= 11080.3490759  F= 58.684516599\n",
      "if removing column  RM  ssres_removed =  13034.6554187  ssres_orig= 11080.3490759  F= 219.636237166\n",
      "if removing column  DIS  ssres_removed =  12433.0573735  ssres_orig= 11080.3490759  F= 152.025173317\n",
      "if removing column  RAD  ssres_removed =  11560.4091697  ssres_orig= 11080.3490759  F= 53.9519267356\n",
      "if removing column  TAX  ssres_removed =  11322.3684294  ssres_orig= 11080.3490759  F= 27.1995331352\n",
      "if removing column  PTRATIO  ssres_removed =  12282.1835512  ssres_orig= 11080.3490759  F= 135.069101545\n",
      "if removing column  B  ssres_removed =  11357.9593597  ssres_orig= 11080.3490759  F= 31.1994474941\n",
      "if removing column  LSTAT  ssres_removed =  13808.9116597  ssres_orig= 11080.3490759  F= 306.651626545\n",
      "removing column INDUS\n",
      "if removing column  CRIM  ssres_removed =  11326.7379646  ssres_orig= 11082.9413888  F= 24.6183416985\n",
      "if removing column  ZN  ssres_removed =  11340.3385591  ssres_orig= 11082.9413888  F= 25.9917165367\n",
      "if removing column  CHAS  ssres_removed =  11310.5889449  ssres_orig= 11082.9413888  F= 22.9876293564\n",
      "if removing column  NOX  ssres_removed =  11625.9210286  ssres_orig= 11082.9413888  F= 54.8295572517\n",
      "if removing column  RM  ssres_removed =  13041.1507397  ssres_orig= 11082.9413888  F= 197.738080465\n",
      "if removing column  DIS  ssres_removed =  12532.6453621  ssres_orig= 11082.9413888  F= 146.389700774\n",
      "if removing column  RAD  ssres_removed =  11582.5730103  ssres_orig= 11082.9413888  F= 50.4523164102\n",
      "if removing column  TAX  ssres_removed =  11355.9326609  ssres_orig= 11082.9413888  F= 27.5663938065\n",
      "if removing column  PTRATIO  ssres_removed =  12290.7949075  ssres_orig= 11082.9413888  F= 121.9678765\n",
      "if removing column  B  ssres_removed =  11359.0913456  ssres_orig= 11082.9413888  F= 27.8853547276\n",
      "if removing column  LSTAT  ssres_removed =  13815.8682235  ssres_orig= 11082.9413888  F= 275.968300375\n",
      "STOP: no F-to-remove < 1.07 !!!\n"
     ]
    }
   ],
   "source": [
    "# Stepwise regression\n",
    "# forward selection method & backward selection method\n",
    "\n",
    "import statsmodels.api as sm\n",
    "\n",
    "boston = datasets.load_boston()\n",
    "boston_data = pd.DataFrame(boston.data)\n",
    "boston_data.columns=boston['feature_names']\n",
    "y = boston['target']\n",
    "n = y.size\n",
    "#n\n",
    "x = boston_data\n",
    "#x\n",
    "while True:\n",
    "    nvars = x.shape[1] # total number of feature\n",
    "    q = 1 # 1 var to remove\n",
    "    p = nvars - q\n",
    "    \n",
    "    x2 = sm.add_constant(x)\n",
    "    boston_model = sm.OLS(y,x2).fit()\n",
    "    ssres0 = boston_model.ssr\n",
    "    \n",
    "    fvalues = []\n",
    "    for i in range(1,nvars+1):\n",
    "        col = x2.columns[i]\n",
    "        x2_cut = x2.drop(col,1)\n",
    "        boston_model_cut = sm.OLS(y,x2_cut).fit()\n",
    "        ssres1 = boston_model_cut.ssr\n",
    "        F = (ssres1-ssres0)/q/(ssres0/n-p-q-1)\n",
    "        print(\"if removing column \", col,\" ssres_removed = \", ssres1,\" ssres_orig=\",ssres0,\" F=\", F)\n",
    "        fvalues.append([col, F])  # stored [column name, F]\n",
    "    sorted_F = sorted(fvalues, key = lambda x:x[1])\n",
    "    lowest_F = sorted_F[0][1]\n",
    "    if lowest_F < 1.07:\n",
    "        print(\"removing column\", sorted_F[0][0])\n",
    "        x = x.drop(sorted_F[0][0], 1)\n",
    "    else:\n",
    "        print(\"STOP: no F-to-remove < 1.07 !!!\")\n",
    "        break\n",
    "        \n",
    "    \n",
    "    \n"
   ]
  },
  {
   "cell_type": "code",
   "execution_count": 22,
   "metadata": {
    "collapsed": false
   },
   "outputs": [
    {
     "name": "stdout",
     "output_type": "stream",
     "text": [
      "if adding feature  ZN  ssres_plus =  37166.5582239  ssres_orig= 42716.295415  F= 75.257642299\n",
      "if adding feature  INDUS  ssres_plus =  32721.1081504  ssres_orig= 42716.295415  F= 153.954883136\n",
      "if adding feature  CHAS  ssres_plus =  41404.2161444  ssres_orig= 42716.295415  F= 15.9715124204\n",
      "if adding feature  NOX  ssres_plus =  34916.1699078  ssres_orig= 42716.295415  F= 112.59148028\n",
      "if adding feature  RM  ssres_plus =  22061.8791962  ssres_orig= 42716.295415  F= 471.846739876\n",
      "if adding feature  AGE  ssres_plus =  36646.5343501  ssres_orig= 42716.295415  F= 83.4774592192\n",
      "if adding feature  DIS  ssres_plus =  40048.0488426  ssres_orig= 42716.295415  F= 33.5795703259\n",
      "if adding feature  RAD  ssres_plus =  36495.1548117  ssres_orig= 42716.295415  F= 85.9142776698\n",
      "if adding feature  TAX  ssres_plus =  33338.9613204  ssres_orig= 42716.295415  F= 141.761356577\n",
      "if adding feature  PTRATIO  ssres_plus =  31702.013207  ssres_orig= 42716.295415  F= 175.105542876\n",
      "if adding feature  B  ssres_plus =  37966.409179  ssres_orig= 42716.295415  F= 63.0542291125\n",
      "if adding feature  LSTAT  ssres_plus =  19472.3814183  ssres_orig= 42716.295415  F= 601.61787111\n",
      "==== adding feature  LSTAT  reduction in residual =  23243.9139967  F =  601.61787111 \n",
      "\n"
     ]
    }
   ],
   "source": [
    "y = boston['target']\n",
    "n = y.size\n",
    "features = boston_data\n",
    "x = pd.DataFrame(np.full([n,1],1.0))\n",
    "\n",
    "nvars = features.shape[1] #total number of features\n",
    "q = 1 #1 var to remove\n",
    "p = x.shape[1] - 1 # current num of features, excluding constants \n",
    "boston_model = sm.OLS(y,x).fit()\n",
    "ssres0=boston_model.ssr\n",
    "\n",
    "fvalues = []\n",
    "for i in range(1, nvars):\n",
    "    feature = features.columns[i]\n",
    "    col = features[[feature]]\n",
    "    x_plus = pd.concat([x, col], axis = 1)\n",
    "    boston_model_plus = sm.OLS(y, x_plus).fit()\n",
    "    ssres1=boston_model_plus.ssr\n",
    "    F = (ssres0-ssres1)/q/(ssres1/(n-p-q-1))\n",
    "    print(\"if adding feature \", feature,\" ssres_plus = \", ssres1,\" ssres_orig=\",ssres0,\" F=\", F)\n",
    "    fvalues.append([feature, F])  # stored [column name, F]\n",
    "sortedF = sorted(fvalues, key=lambda x: x[1], reverse = True)\n",
    "highestF = sortedF[0][1]  \n",
    "if highestF > 2.07:\n",
    "    feature = sortedF[0][0]\n",
    "    col = features[[feature]]\n",
    "    print(\"==== adding feature \", feature,\" reduction in residual = \",ssres0-ssres1,\" F = \",sortedF[0][1],\"\\n\")\n",
    "    x = pd.concat([x, col], axis = 1)\n",
    "    features = features.drop(feature, 1)\n",
    "else:\n",
    "    print(\"STOP: no F-to-remove > 2.07 !!!\")"
   ]
  },
  {
   "cell_type": "code",
   "execution_count": null,
   "metadata": {
    "collapsed": true
   },
   "outputs": [],
   "source": []
  }
 ],
 "metadata": {
  "kernelspec": {
   "display_name": "Python 3",
   "language": "python",
   "name": "python3"
  },
  "language_info": {
   "codemirror_mode": {
    "name": "ipython",
    "version": 3
   },
   "file_extension": ".py",
   "mimetype": "text/x-python",
   "name": "python",
   "nbconvert_exporter": "python",
   "pygments_lexer": "ipython3",
   "version": "3.6.0"
  }
 },
 "nbformat": 4,
 "nbformat_minor": 2
}
