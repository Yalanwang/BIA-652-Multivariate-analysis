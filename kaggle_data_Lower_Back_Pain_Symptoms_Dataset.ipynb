{
 "cells": [
  {
   "cell_type": "markdown",
   "metadata": {},
   "source": [
    "requirements:\n",
    "\n",
    "\n",
    "Download spine dataset from https://www.kaggle.com/sammy123/lower-back-pain-symptoms-dataset (Links to an external site.) (need to create an account)\n",
    "\n",
    "Import the data, which has 12 features\n",
    "\n",
    "It also has a label with value (abnormal/normal) which you should convert to 1/0\n",
    "\n",
    "Use 60% random rows as training and 40% as testing\n",
    "\n",
    "Build kNN model. Plot ROC and compute AUC\n",
    "\n",
    "Build a Naive Bayes model. Plot ROC and compute AUC\n",
    "\n",
    "Build a logistic regression model. Plot ROC and compute AUC\n",
    "\n"
   ]
  },
  {
   "cell_type": "code",
   "execution_count": 17,
   "metadata": {
    "collapsed": true
   },
   "outputs": [],
   "source": [
    "import pandas as pd\n",
    "\n",
    "my_data = pd.read_csv(\"F:/github/BIA-652-Multivariate-analysis/Dataset_spine.csv\")\n",
    "my_data['Class_att'] = my_data['Class_att'].map({'Abnormal':1, 'Normal':0})\n",
    "#my_data.head()"
   ]
  },
  {
   "cell_type": "code",
   "execution_count": 18,
   "metadata": {
    "collapsed": false
   },
   "outputs": [],
   "source": [
    "from sklearn.cross_validation import train_test_split\n",
    "\n",
    "train,test = train_test_split(my_data, test_size=0.4)\n",
    "\n",
    "y_train = train['Class_att'].values\n",
    "x_train = train[['Col1','Col2','Col3','Col4','Col5','Col6','Col7','Col8','Col9','Col10','Col11','Col12']]\n",
    "\n",
    "y_test = test['Class_att'].values\n",
    "x_test = test[['Col1','Col2','Col3','Col4','Col5','Col6','Col7','Col8','Col9','Col10','Col11','Col12']]\n",
    "\n",
    "\n",
    "from sklearn.neighbors import KNeighborsClassifier\n",
    "kNN = KNeighborsClassifier(n_neighbors = 3)\n",
    "kNN.fit(x_train,y_train )\n",
    "predicted = kNN.predict (x_test)\n",
    "probs = kNN.predict_proba(x_test)\n",
    "#probs"
   ]
  },
  {
   "cell_type": "code",
   "execution_count": 19,
   "metadata": {
    "collapsed": false
   },
   "outputs": [
    {
     "name": "stdout",
     "output_type": "stream",
     "text": [
      "kNN AUC =  0.858024691358\n"
     ]
    },
    {
     "data": {
      "image/png": "[encoded data removed]",
      "text/plain": [
       "<matplotlib.figure.Figure at 0xa6799b0>"
      ]
     },
     "metadata": {},
     "output_type": "display_data"
    }
   ],
   "source": [
    "from sklearn import metrics\n",
    "import matplotlib.pyplot as plt\n",
    "% matplotlib inline\n",
    "\n",
    "fpr, tpr, thresholds = metrics.roc_curve(y_test,kNN.predict_proba(x_test)\n",
    "[:,1],pos_label=1)\n",
    "plt.plot(fpr,tpr,color = \"green\")\n",
    "print (\"kNN AUC = \", metrics.auc(fpr,tpr))"
   ]
  },
  {
   "cell_type": "code",
   "execution_count": 20,
   "metadata": {
    "collapsed": false
   },
   "outputs": [],
   "source": [
    "from sklearn.naive_bayes import GaussianNB\n",
    "gnb = GaussianNB()\n",
    "gnb.fit(x_train, y_train)\n",
    "predicted = gnb.predict(x_test)\n",
    "probs = gnb.predict_proba(x_test)\n",
    "#probs"
   ]
  },
  {
   "cell_type": "code",
   "execution_count": 21,
   "metadata": {
    "collapsed": false
   },
   "outputs": [
    {
     "name": "stdout",
     "output_type": "stream",
     "text": [
      "NB auc =  0.861326442722\n"
     ]
    },
    {
     "data": {
      "image/png": "[encoded data removed]",
      "text/plain": [
       "<matplotlib.figure.Figure at 0xb73ee80>"
      ]
     },
     "metadata": {},
     "output_type": "display_data"
    }
   ],
   "source": [
    "fpr2, tpr2, thresholds = metrics.roc_curve(y_test, probs[:, 1], pos_label=1)\n",
    "plt.plot(fpr,tpr, color=\"blue\")\n",
    "print(\"NB auc = \", metrics.auc(fpr2, tpr2))"
   ]
  },
  {
   "cell_type": "code",
   "execution_count": 22,
   "metadata": {
    "collapsed": false
   },
   "outputs": [],
   "source": [
    "from sklearn.linear_model import LogisticRegression\n",
    "model = LogisticRegression()\n",
    "model.fit(x_train, y_train)\n",
    "predicted = model.predict(x_test)\n",
    "probs = model.predict_proba(x_test)\n",
    "#probs"
   ]
  },
  {
   "cell_type": "code",
   "execution_count": 23,
   "metadata": {
    "collapsed": false
   },
   "outputs": [
    {
     "name": "stdout",
     "output_type": "stream",
     "text": [
      "LogisticRegression auc =  0.887166236003\n"
     ]
    },
    {
     "data": {
      "image/png": "[encoded data removed]",
      "text/plain": [
       "<matplotlib.figure.Figure at 0xb7d4278>"
      ]
     },
     "metadata": {},
     "output_type": "display_data"
    }
   ],
   "source": [
    "fpr, tpr, thresholds = metrics.roc_curve(y_test, probs[:, 1], pos_label=1)\n",
    "plt.plot(fpr,tpr, color=\"blue\")\n",
    "print(\"LogisticRegression auc = \", metrics.auc(fpr, tpr))"
   ]
  },
  {
   "cell_type": "code",
   "execution_count": null,
   "metadata": {
    "collapsed": true
   },
   "outputs": [],
   "source": []
  }
 ],
 "metadata": {
  "kernelspec": {
   "display_name": "Python 3",
   "language": "python",
   "name": "python3"
  },
  "language_info": {
   "codemirror_mode": {
    "name": "ipython",
    "version": 3
   },
   "file_extension": ".py",
   "mimetype": "text/x-python",
   "name": "python",
   "nbconvert_exporter": "python",
   "pygments_lexer": "ipython3",
   "version": "3.6.0"
  }
 },
 "nbformat": 4,
 "nbformat_minor": 2
}
